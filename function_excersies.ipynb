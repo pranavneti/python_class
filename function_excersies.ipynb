{
 "cells": [
  {
   "cell_type": "code",
   "execution_count": 3,
   "metadata": {},
   "outputs": [
    {
     "name": "stdout",
     "output_type": "stream",
     "text": [
      "How many values do you want to enter? 4\n",
      "What is a value you want to enter? 10\n",
      "What is a value you want to enter? 20\n",
      "What is a value you want to enter? 8\n",
      "What is a value you want to enter? 0\n",
      "[0, 8, 10, 20]\n"
     ]
    }
   ],
   "source": [
    "values=int(input(\"How many values do you want to enter? \"))\n",
    "a=[]\n",
    "for x in range(values):\n",
    "    num = int(input(\"What is a value you want to enter? \"))\n",
    "    a.append(num)\n",
    "    \n",
    "def sorter(a):\n",
    "    ret = list()\n",
    "    while len(a) :\n",
    "        low_num=a[0]\n",
    "        for y in a:\n",
    "            if(y<low_num):\n",
    "                low_num=y\n",
    "        ret.append(low_num)\n",
    "        a.remove(low_num)\n",
    "        \n",
    "    print(ret)\n",
    "\n",
    "sorter(a)"
   ]
  },
  {
   "cell_type": "code",
   "execution_count": null,
   "metadata": {},
   "outputs": [],
   "source": []
  }
 ],
 "metadata": {
  "kernelspec": {
   "display_name": "Python 3",
   "language": "python",
   "name": "python3"
  },
  "language_info": {
   "codemirror_mode": {
    "name": "ipython",
    "version": 3
   },
   "file_extension": ".py",
   "mimetype": "text/x-python",
   "name": "python",
   "nbconvert_exporter": "python",
   "pygments_lexer": "ipython3",
   "version": "3.8.3"
  }
 },
 "nbformat": 4,
 "nbformat_minor": 4
}
